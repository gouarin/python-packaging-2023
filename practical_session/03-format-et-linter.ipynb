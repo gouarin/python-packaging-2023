{
 "cells": [
  {
   "cell_type": "markdown",
   "metadata": {
    "slideshow": {
     "slide_type": "slide"
    }
   },
   "source": [
    "# Analyse de code statique\n"
   ]
  },
  {
   "cell_type": "markdown",
   "metadata": {
    "slideshow": {
     "slide_type": "slide"
    }
   },
   "source": [
    ":::{note} Les objectifs de cette partie\n",
    "- Comprendre l'importance de l'analyse statique.\n",
    "- Comprendre l'importance de bien formater le code.\n",
    "- Connaître les 2 meilleurs outils Python qui permettent de le faire.\n",
    ":::\n",
    "\n",
    "L'utilisation de l'analyse de code statique ainsi que le formatage du code permet entre autre de\n",
    "\n",
    "- Définir un cadre de développement.\n",
    "- S'assurer que les autres développeurs potentiels comprennent ce cadre facilement.\n",
    "- Conserver une uniformité dans le code.\n",
    "\n",
    "Concernant le formatage de code, on peut citer deux outils\n",
    "\n",
    "- [black](https://black.readthedocs.io/en/stable/?badge=stable)\n",
    "- [ruff](https://docs.astral.sh/ruff/)\n",
    "\n",
    "Chacun d'eux va vous permettre de définir la structure visuelle que vous souhaitez que votre code ait tout en essayant de respecter la [PEP 8](https://www.python.org/dev/peps/pep-0008/). Celle-ci définit les règles de nommages, les règles d'espaces, les règles d'indentation, ...\n",
    "\n",
    ":::{note} Extraits de la PEP 8\n",
    "- Le nombre d'espaces d'une indentation est de 4.\n",
    "- Le nombre maximal de caractères sur une ligne est de 79.\n",
    "- Les `import` doivent être sur des lignes séparées.\n",
    "- Les noms de classes doivent suivre la convention `CapWords`.\n",
    "- ...\n",
    ":::"
   ]
  },
  {
   "cell_type": "markdown",
   "metadata": {
    "slideshow": {
     "slide_type": "slide"
    }
   },
   "source": [
    "Concernant l'analyse statique, celle-ci est très utile car elle permet de voir certains disfonctionnements avant même d'avoir exécuter du code Python. L'analyse statique peut par exemple vérifier\n",
    "\n",
    "- les variables non utilisées,\n",
    "- les paramètres de fonctions non utilisés,\n",
    "- les comportements étranges\n",
    "- ...\n",
    "\n",
    "Là encore, on peut citer deux outils\n",
    "\n",
    "- [pylint](https://pylint.readthedocs.io/)\n",
    "- [ruff](https://docs.astral.sh/ruff/)\n",
    "\n",
    "pylint a été longtemps le meilleur outil car il était beaucoup plus complet que les autres dans les diagnostics et il est facilement configurable. \n",
    "\n",
    "ruff est jeune mais il offre une rapidité d'exécution incomparable par rapport aux autres outils. Il est écrit en Rust. Même si ruff voit déjà beaucoup de choses, il n'a pas tous les diagnostics de pylint mais c'est en cours ([https://github.com/astral-sh/ruff/issues/970](https://github.com/astral-sh/ruff/issues/970)).\n",
    "\n",
    "Dans la suite, nous allons regarder le comportement de ces deux outils sur des bouts de code afin de voir les différences."
   ]
  },
  {
   "cell_type": "markdown",
   "metadata": {
    "slideshow": {
     "slide_type": "subslide"
    }
   },
   "source": [
    ":::{hint} pylint\n",
    "- installation\n",
    "\n",
    "  ```bash\n",
    "  pip install pylint\n",
    "  ```\n",
    "  ou \n",
    "  ```bash\n",
    "  mamba install pylint\n",
    "  ```\n",
    "  ou\n",
    "  ```bash\n",
    "  pixi add pylint\n",
    "  ```\n",
    "\n",
    "- utilisation\n",
    "\n",
    "  ```bash\n",
    "  pylint mon_fichier.py\n",
    "  ```\n",
    ":::\n",
    "\n",
    ":::{hint} ruff\n",
    "- installation\n",
    "\n",
    "  ```bash\n",
    "  pip install ruff\n",
    "  ```\n",
    "  ou \n",
    "  ```bash\n",
    "  mamba install ruff\n",
    "  ```\n",
    "  ou\n",
    "  ```bash\n",
    "  pixi add ruff\n",
    "  ```\n",
    "\n",
    "- utilisation\n",
    "\n",
    "  - pour le formatage\n",
    "    \n",
    "    ```bash\n",
    "    ruff format mon_fichier.py \n",
    "    ```\n",
    "\n",
    "  - pour le linter\n",
    "\n",
    "    ```bash\n",
    "    ruff check mon_fichier.py --select ALL\n",
    "    ```\n",
    ":::"
   ]
  },
  {
   "cell_type": "markdown",
   "metadata": {
    "slideshow": {
     "slide_type": "slide"
    }
   },
   "source": [
    "## Exemples"
   ]
  },
  {
   "cell_type": "code",
   "execution_count": null,
   "metadata": {
    "collapsed": true,
    "jupyter": {
     "outputs_hidden": true
    },
    "slideshow": {
     "slide_type": "subslide"
    }
   },
   "outputs": [],
   "source": [
    "%%file examples/linter/pep8.py\n",
    "class maCLasse:\n",
    "    def __init__(a, b = 4):\n",
    "          self.a = 5\n",
    "\n",
    "def fonctionADD(a, b,c):\n",
    "    return a+b"
   ]
  },
  {
   "cell_type": "code",
   "execution_count": null,
   "metadata": {},
   "outputs": [],
   "source": [
    "! pylint examples/linter/pep8.py"
   ]
  },
  {
   "cell_type": "code",
   "execution_count": null,
   "metadata": {},
   "outputs": [],
   "source": [
    "! ruff check --select ALL examples/linter/pep8.py"
   ]
  },
  {
   "cell_type": "code",
   "execution_count": null,
   "metadata": {
    "slideshow": {
     "slide_type": "subslide"
    }
   },
   "outputs": [],
   "source": [
    "%%file examples/linter/missing.py\n",
    "def process_stuff(params):\n",
    "    executed = False\n",
    "    if not params:\n",
    "        raise ValueError('empty command list')\n",
    "        for foo in params:\n",
    "            foo.execute\n"
   ]
  },
  {
   "cell_type": "code",
   "execution_count": null,
   "metadata": {},
   "outputs": [],
   "source": [
    "! pylint examples/linter/missing.py"
   ]
  },
  {
   "cell_type": "code",
   "execution_count": null,
   "metadata": {},
   "outputs": [],
   "source": [
    "! ruff check --select ALL examples/linter/missing.py"
   ]
  },
  {
   "cell_type": "code",
   "execution_count": null,
   "metadata": {
    "collapsed": true,
    "jupyter": {
     "outputs_hidden": true
    },
    "slideshow": {
     "slide_type": "subslide"
    }
   },
   "outputs": [],
   "source": [
    "%%file examples/linter/numpy_check.py\n",
    "import numpy as np\n",
    "\n",
    "a = np.zeros((10, 10), dtype=np.int322)\n",
    "np.sum(a, axes=0)"
   ]
  },
  {
   "cell_type": "code",
   "execution_count": null,
   "metadata": {},
   "outputs": [],
   "source": [
    "! pylint examples/linter/numpy_check.py"
   ]
  },
  {
   "cell_type": "code",
   "execution_count": null,
   "metadata": {},
   "outputs": [],
   "source": [
    "! ruff check --select ALL examples/linter/numpy_check.py"
   ]
  },
  {
   "cell_type": "code",
   "execution_count": null,
   "metadata": {
    "collapsed": true,
    "jupyter": {
     "outputs_hidden": true
    },
    "slideshow": {
     "slide_type": "subslide"
    }
   },
   "outputs": [],
   "source": [
    "%%file examples/linter/similarities/module1.py\n",
    "\n",
    "def function1(array):\n",
    "    for i in range(10):\n",
    "        for j in range(10):\n",
    "            if (i+j) & 1:\n",
    "                array[i][j] = 1\n",
    "            else:\n",
    "                array[i][j] = 0"
   ]
  },
  {
   "cell_type": "code",
   "execution_count": null,
   "metadata": {
    "collapsed": true,
    "jupyter": {
     "outputs_hidden": true
    }
   },
   "outputs": [],
   "source": [
    "%%file examples/linter/similarities/module2.py\n",
    "\n",
    "def function2(array):\n",
    "    print(array[0])\n",
    "    for i in range(10):\n",
    "        for j in range(10):\n",
    "            if (i+j) & 1:\n",
    "                array[i][j] = 1\n",
    "            else:\n",
    "                array[i][j] = 0"
   ]
  },
  {
   "cell_type": "code",
   "execution_count": null,
   "metadata": {},
   "outputs": [],
   "source": [
    "! pylint examples/linter/similarities"
   ]
  },
  {
   "cell_type": "code",
   "execution_count": null,
   "metadata": {},
   "outputs": [],
   "source": [
    "! ruff check --select ALL examples/linter/similarities"
   ]
  },
  {
   "cell_type": "markdown",
   "metadata": {},
   "source": [
    "## Avantages de pylint"
   ]
  },
  {
   "cell_type": "code",
   "execution_count": null,
   "metadata": {
    "slideshow": {
     "slide_type": "subslide"
    }
   },
   "outputs": [],
   "source": [
    "%%file examples/linter/numpy_doc.py\n",
    "\n",
    "def awesome_function(tomatoes, banana):\n",
    "    \"\"\"\n",
    "    This is an awesome function !!\n",
    "\n",
    "    Parameters\n",
    "    ----------\n",
    "\n",
    "    tomatoes:\n",
    "        red fruit\n",
    "\n",
    "    apple : int\n",
    "        number of apple\n",
    "    \"\"\"\n",
    "\n",
    "    print(tomatoes)\n",
    "    print(banana)\n",
    "\n",
    "    return tomatoes[0]\n"
   ]
  },
  {
   "cell_type": "code",
   "execution_count": null,
   "metadata": {},
   "outputs": [],
   "source": [
    "! pylint --load-plugins=pylint.extensions.docparams examples/linter/numpy_doc.py"
   ]
  },
  {
   "cell_type": "code",
   "execution_count": null,
   "metadata": {
    "slideshow": {
     "slide_type": "subslide"
    }
   },
   "outputs": [],
   "source": [
    "%%file examples/linter/spellcheck.py\n",
    "\n",
    "def some_function():\n",
    "    \"\"\"\n",
    "    This fonction does nothing.\n",
    "\n",
    "    But it's a example of spell checking\n",
    "    using pylint.\n",
    "\n",
    "    Don't look at the grammar and work only\n",
    "    for doc strings and comments.\n",
    "    \"\"\"\n",
    "    pass"
   ]
  },
  {
   "cell_type": "code",
   "execution_count": null,
   "metadata": {},
   "outputs": [],
   "source": [
    "! pylint --spelling-dict en_US examples/linter/spellcheck.py"
   ]
  },
  {
   "cell_type": "markdown",
   "metadata": {},
   "source": [
    "## Annuler certaines vérifications\n"
   ]
  },
  {
   "cell_type": "code",
   "execution_count": null,
   "metadata": {},
   "outputs": [],
   "source": [
    "%%file examples/linter/disable.py\n",
    "\n",
    "# pylint: disable=invalid-name\n",
    "def function1():\n",
    "    for a in range(10):\n",
    "        print(a)"
   ]
  },
  {
   "cell_type": "code",
   "execution_count": null,
   "metadata": {},
   "outputs": [],
   "source": [
    "! pylint examples/linter/disable.py"
   ]
  },
  {
   "cell_type": "markdown",
   "metadata": {},
   "source": [
    "## Fichier de configuration de pylint\n",
    "\n",
    "- Si vous souhaitez qu'il soit utilisé dès que l'on appelle pylint"
   ]
  },
  {
   "cell_type": "code",
   "execution_count": null,
   "metadata": {},
   "outputs": [],
   "source": [
    "! pylint --generate-rcfile > ~/.pylintrc"
   ]
  },
  {
   "cell_type": "markdown",
   "metadata": {},
   "source": [
    "\n",
    "- Si vous souhaitez qu'il soit utilisé uniquement pour un module ou un paquet précis"
   ]
  },
  {
   "cell_type": "code",
   "execution_count": null,
   "metadata": {},
   "outputs": [],
   "source": [
    "! pylint --generate-rcfile > pylintrc\n",
    "! pylint ..."
   ]
  },
  {
   "cell_type": "markdown",
   "metadata": {},
   "source": [
    "\n",
    "### Que contient ce fichier ?\n",
    "\n",
    "- La possibilité de configurer tout ce qu'on a vu avant.\n",
    "- Une gestion plus fine (par exemple les expressions régulières satisfaisant la PEP 8).\n",
    "- Le formatage des messages de sortie et le calcul du score.\n",
    "- La possibiité d'exécuter pylint en multi-threads.\n",
    "- ...\n",
    "\n",
    "## Exercices\n",
    "\n",
    "Le répertoire `step0` reprend la dernière étape du TP précédent.\n",
    "\n",
    ":::{exercise}\n",
    "Créez un nouvel environnement avec `pixi` appelé `linter` dans lequel `pylint`et `ruff` sont installés.\n",
    ":::\n",
    "\n",
    ":::{exercise}\n",
    "Testez pylint et ruff sur splinart/compute.py. \n",
    "\n",
    "Essayez de corriger les erreurs.\n",
    ":::\n",
    "\n",
    ":::{exercise}\n",
    "Faire de même sur l'ensemble du projet avec pylint en créant un fichier de configuration qui permet de gérer finement le comportement que l'on souhaite.\n",
    ":::\n",
    "\n",
    ":::{exercise}\n",
    "Formatez l'ensemble du code avec ruff.\n",
    ":::"
   ]
  },
  {
   "cell_type": "markdown",
   "metadata": {
    "slideshow": {
     "slide_type": "slide"
    }
   },
   "source": [
    "## Références\n",
    "\n",
    "- [12 years of Pylint](http://pcmanticore.github.io/pylint-talks) - Claudio Paupa\n",
    "\n",
    "- [don't use this code](https://github.com/markshannon/dont_use_this_code) - Mark Shannon"
   ]
  }
 ],
 "metadata": {
  "celltoolbar": "Slideshow",
  "kernelspec": {
   "display_name": "Python 3 (ipykernel)",
   "language": "python",
   "name": "python3"
  },
  "language_info": {
   "codemirror_mode": {
    "name": "ipython",
    "version": 3
   },
   "file_extension": ".py",
   "mimetype": "text/x-python",
   "name": "python",
   "nbconvert_exporter": "python",
   "pygments_lexer": "ipython3",
   "version": "3.11.3"
  },
  "livereveal": {
   "autolaunch": true,
   "scroll": true,
   "width": "80%"
  }
 },
 "nbformat": 4,
 "nbformat_minor": 4
}
