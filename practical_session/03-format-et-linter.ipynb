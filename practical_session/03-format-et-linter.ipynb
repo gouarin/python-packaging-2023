{
 "cells": [
  {
   "cell_type": "markdown",
   "metadata": {
    "slideshow": {
     "slide_type": "slide"
    }
   },
   "source": [
    "# Analyse de code statique\n"
   ]
  },
  {
   "cell_type": "markdown",
   "metadata": {
    "slideshow": {
     "slide_type": "slide"
    }
   },
   "source": [
    ":::{note} Les objectifs de cette partie\n",
    "- Comprendre l'importance de l'analyse statique.\n",
    "- Comprendre l'importance de bien formater le code.\n",
    "- Connaître les 2 meilleurs outils Python qui permettent de le faire.\n",
    ":::\n",
    "\n",
    "L'utilisation de l'analyse de code statique ainsi que le formatage du code permet entre autre de\n",
    "\n",
    "- Définir un cadre de développement.\n",
    "- S'assurer que les autres développeurs potentiels comprennent ce cadre facilement.\n",
    "- Conserver une uniformité dans le code.\n",
    "\n",
    "Concernant le formatage de code, on peut citer deux outils\n",
    "\n",
    "- black\n",
    "- ruff\n",
    "\n",
    "Chacun d'eux va vous permettre de définir la structure visuelle que vous souhaitez que votre code ait tout en essayant de respecter la [PEP 8](https://www.python.org/dev/peps/pep-0008/). Celle-ci définit les règles de nommages, les règles d'espaces, les règles d'indentation, ...\n",
    "\n",
    ":::{note} Extraits de la PEP 8\n",
    "- Le nombre d'espaces d'une indentation est de 4.\n",
    "- Le nombre maximal de caractères sur une ligne est de 79.\n",
    "- Les `import` doivent être sur des lignes séparées.\n",
    "- Les noms de classes doivent suivre la convention `CapWords`.\n",
    "- ...\n",
    ":::"
   ]
  },
  {
   "cell_type": "markdown",
   "metadata": {
    "slideshow": {
     "slide_type": "slide"
    }
   },
   "source": [
    "Concernant l'analyse statique, celle-ci est très utile car elle permet de voir certains disfonctionnements avant même d'avoir exécuter du code Python. L'analyse statique peut par exemple vérifier\n",
    "\n",
    "- les variables non utilisées,\n",
    "- les paramètres de fonctions non utilisés,\n",
    "- les comportements étranges\n",
    "- ...\n",
    "\n",
    "Là encore, on peut citer deux outils\n",
    "\n",
    "- pylint\n",
    "- ruff\n",
    "\n",
    "pylint a été longtemps le meilleur outil car il était beaucoup plus complet que les autres dans les diagnostics et il est facilement configurable. \n",
    "\n",
    "ruff est jeune mais il offre une rapidité d'exécution incomparable par rapport aux autres outils. Il est écrit en Rust. Même si ruff voit déjà beaucoup de choses, il n'a pas tous les diagnostics de pylint mais c'est en cours ([https://github.com/astral-sh/ruff/issues/970](https://github.com/astral-sh/ruff/issues/970)).\n",
    "\n",
    "Dans la suite, nous allons regarder le comportement de ces deux outils sur des bouts de code afin de voir les différences."
   ]
  },
  {
   "cell_type": "markdown",
   "metadata": {
    "slideshow": {
     "slide_type": "subslide"
    }
   },
   "source": [
    ":::{hint} pylint\n",
    "- installation\n",
    "\n",
    "  ```bash\n",
    "  pip install pylint\n",
    "  ```\n",
    "  ou \n",
    "  ```bash\n",
    "  mamba install pylint\n",
    "  ```\n",
    "\n",
    "- utilisation\n",
    "\n",
    "  ```bash\n",
    "  pylint mon_fichier.py\n",
    "  ```\n",
    ":::\n",
    "\n",
    ":::{hint} ruff\n",
    "- installation\n",
    "\n",
    "  ```bash\n",
    "  pip install ruff\n",
    "  ```\n",
    "  ou \n",
    "  ```bash\n",
    "  mamba install ruff\n",
    "  ```\n",
    "\n",
    "- utilisation\n",
    "\n",
    "  - pour le formatage\n",
    "    \n",
    "    ```bash\n",
    "    ruff format mon_fichier.py \n",
    "    ```\n",
    "\n",
    "  - pour le linter\n",
    "\n",
    "    ```bash\n",
    "    ruff check mon_fichier.py --select ALL\n",
    "    ```\n",
    ":::"
   ]
  },
  {
   "cell_type": "markdown",
   "metadata": {
    "slideshow": {
     "slide_type": "slide"
    }
   },
   "source": [
    "## Exemples"
   ]
  },
  {
   "cell_type": "code",
   "execution_count": null,
   "metadata": {
    "collapsed": true,
    "jupyter": {
     "outputs_hidden": true
    },
    "slideshow": {
     "slide_type": "subslide"
    }
   },
   "outputs": [],
   "source": [
    "%%file examples/linter/pep8.py\n",
    "class maCLasse:\n",
    "    def __init__(a, b = 4):\n",
    "          self.a = 5\n",
    "\n",
    "def fonctionADD(a, b,c):\n",
    "    return a+b"
   ]
  },
  {
   "cell_type": "code",
   "execution_count": 3,
   "metadata": {},
   "outputs": [
    {
     "name": "stdout",
     "output_type": "stream",
     "text": [
      "************* Module pep8\n",
      "examples/linter/pep8.py:3:0: W0311: Bad indentation. Found 10 spaces, expected 8 (bad-indentation)\n",
      "examples/linter/pep8.py:6:0: C0304: Final newline missing (missing-final-newline)\n",
      "examples/linter/pep8.py:1:0: C0114: Missing module docstring (missing-module-docstring)\n",
      "examples/linter/pep8.py:1:0: C0115: Missing class docstring (missing-class-docstring)\n",
      "examples/linter/pep8.py:1:0: C0103: Class name \"maCLasse\" doesn't conform to PascalCase naming style (invalid-name)\n",
      "examples/linter/pep8.py:2:4: E0213: Method '__init__' should have \"self\" as first argument (no-self-argument)\n",
      "examples/linter/pep8.py:3:10: E0602: Undefined variable 'self' (undefined-variable)\n",
      "examples/linter/pep8.py:2:20: W0613: Unused argument 'b' (unused-argument)\n",
      "examples/linter/pep8.py:1:0: R0903: Too few public methods (0/2) (too-few-public-methods)\n",
      "examples/linter/pep8.py:5:0: C0116: Missing function or method docstring (missing-function-docstring)\n",
      "examples/linter/pep8.py:5:0: C0103: Function name \"fonctionADD\" doesn't conform to snake_case naming style (invalid-name)\n",
      "examples/linter/pep8.py:5:21: W0613: Unused argument 'c' (unused-argument)\n",
      "\n",
      "-----------------------------------\n",
      "Your code has been rated at 0.00/10\n",
      "\n"
     ]
    }
   ],
   "source": [
    "! pylint examples/linter/pep8.py"
   ]
  },
  {
   "cell_type": "code",
   "execution_count": 12,
   "metadata": {},
   "outputs": [
    {
     "name": "stdout",
     "output_type": "stream",
     "text": [
      "\u001b[1;33mwarning\u001b[0m\u001b[1m:\u001b[0m \u001b[1m`one-blank-line-before-class` (D203) and `no-blank-line-before-class` (D211) are incompatible. Ignoring `one-blank-line-before-class`.\u001b[0m\n",
      "\u001b[1;33mwarning\u001b[0m\u001b[1m:\u001b[0m \u001b[1m`multi-line-summary-first-line` (D212) and `multi-line-summary-second-line` (D213) are incompatible. Ignoring `multi-line-summary-second-line`.\u001b[0m\n",
      "\u001b[1mexamples/linter/pep8.py\u001b[0m\u001b[36m:\u001b[0m1\u001b[36m:\u001b[0m1\u001b[36m:\u001b[0m \u001b[1;31mINP001\u001b[0m File `examples/linter/pep8.py` is part of an implicit namespace package. Add an `__init__.py`.\n",
      "\u001b[1mexamples/linter/pep8.py\u001b[0m\u001b[36m:\u001b[0m1\u001b[36m:\u001b[0m1\u001b[36m:\u001b[0m \u001b[1;31mD100\u001b[0m Missing docstring in public module\n",
      "\u001b[1mexamples/linter/pep8.py\u001b[0m\u001b[36m:\u001b[0m1\u001b[36m:\u001b[0m7\u001b[36m:\u001b[0m \u001b[1;31mN801\u001b[0m Class name `maCLasse` should use CapWords convention \n",
      "\u001b[1mexamples/linter/pep8.py\u001b[0m\u001b[36m:\u001b[0m1\u001b[36m:\u001b[0m7\u001b[36m:\u001b[0m \u001b[1;31mD101\u001b[0m Missing docstring in public class\n",
      "\u001b[1mexamples/linter/pep8.py\u001b[0m\u001b[36m:\u001b[0m2\u001b[36m:\u001b[0m9\u001b[36m:\u001b[0m \u001b[1;31mANN204\u001b[0m Missing return type annotation for special method `__init__`\n",
      "\u001b[1mexamples/linter/pep8.py\u001b[0m\u001b[36m:\u001b[0m2\u001b[36m:\u001b[0m9\u001b[36m:\u001b[0m \u001b[1;31mD107\u001b[0m Missing docstring in `__init__`\n",
      "\u001b[1mexamples/linter/pep8.py\u001b[0m\u001b[36m:\u001b[0m2\u001b[36m:\u001b[0m18\u001b[36m:\u001b[0m \u001b[1;31mN805\u001b[0m First argument of a method should be named `self`\n",
      "\u001b[1mexamples/linter/pep8.py\u001b[0m\u001b[36m:\u001b[0m2\u001b[36m:\u001b[0m18\u001b[36m:\u001b[0m \u001b[1;31mANN101\u001b[0m Missing type annotation for `a` in method\n",
      "\u001b[1mexamples/linter/pep8.py\u001b[0m\u001b[36m:\u001b[0m2\u001b[36m:\u001b[0m21\u001b[36m:\u001b[0m \u001b[1;31mANN001\u001b[0m Missing type annotation for function argument `b`\n",
      "\u001b[1mexamples/linter/pep8.py\u001b[0m\u001b[36m:\u001b[0m2\u001b[36m:\u001b[0m21\u001b[36m:\u001b[0m \u001b[1;31mARG002\u001b[0m Unused method argument: `b`\n",
      "\u001b[1mexamples/linter/pep8.py\u001b[0m\u001b[36m:\u001b[0m3\u001b[36m:\u001b[0m11\u001b[36m:\u001b[0m \u001b[1;31mF821\u001b[0m Undefined name `self`\n",
      "\u001b[1mexamples/linter/pep8.py\u001b[0m\u001b[36m:\u001b[0m5\u001b[36m:\u001b[0m5\u001b[36m:\u001b[0m \u001b[1;31mN802\u001b[0m Function name `fonctionADD` should be lowercase\n",
      "\u001b[1mexamples/linter/pep8.py\u001b[0m\u001b[36m:\u001b[0m5\u001b[36m:\u001b[0m5\u001b[36m:\u001b[0m \u001b[1;31mANN201\u001b[0m Missing return type annotation for public function `fonctionADD`\n",
      "\u001b[1mexamples/linter/pep8.py\u001b[0m\u001b[36m:\u001b[0m5\u001b[36m:\u001b[0m5\u001b[36m:\u001b[0m \u001b[1;31mD103\u001b[0m Missing docstring in public function\n",
      "\u001b[1mexamples/linter/pep8.py\u001b[0m\u001b[36m:\u001b[0m5\u001b[36m:\u001b[0m17\u001b[36m:\u001b[0m \u001b[1;31mANN001\u001b[0m Missing type annotation for function argument `a`\n",
      "\u001b[1mexamples/linter/pep8.py\u001b[0m\u001b[36m:\u001b[0m5\u001b[36m:\u001b[0m20\u001b[36m:\u001b[0m \u001b[1;31mANN001\u001b[0m Missing type annotation for function argument `b`\n",
      "\u001b[1mexamples/linter/pep8.py\u001b[0m\u001b[36m:\u001b[0m5\u001b[36m:\u001b[0m22\u001b[36m:\u001b[0m \u001b[1;31mANN001\u001b[0m Missing type annotation for function argument `c`\n",
      "\u001b[1mexamples/linter/pep8.py\u001b[0m\u001b[36m:\u001b[0m5\u001b[36m:\u001b[0m22\u001b[36m:\u001b[0m \u001b[1;31mARG001\u001b[0m Unused function argument: `c`\n",
      "Found 18 errors.\n",
      "No fixes available (1 hidden fix can be enabled with the `--unsafe-fixes` option).\n"
     ]
    }
   ],
   "source": [
    "! ruff --select ALL examples/linter/pep8.py"
   ]
  },
  {
   "cell_type": "code",
   "execution_count": 4,
   "metadata": {
    "slideshow": {
     "slide_type": "subslide"
    }
   },
   "outputs": [
    {
     "name": "stdout",
     "output_type": "stream",
     "text": [
      "Overwriting examples/linter/missing.py\n"
     ]
    }
   ],
   "source": [
    "%%file examples/linter/missing.py\n",
    "def process_stuff(params):\n",
    "    executed = False\n",
    "    if not params:\n",
    "        raise ValueError('empty command list')\n",
    "        for foo in params:\n",
    "            foo.execute\n"
   ]
  },
  {
   "cell_type": "code",
   "execution_count": 14,
   "metadata": {},
   "outputs": [
    {
     "name": "stdout",
     "output_type": "stream",
     "text": [
      "************* Module missing\n",
      "examples/linter/missing.py:6:0: C0304: Final newline missing (missing-final-newline)\n",
      "examples/linter/missing.py:1:0: C0114: Missing module docstring (missing-module-docstring)\n",
      "examples/linter/missing.py:1:0: C0116: Missing function or method docstring (missing-function-docstring)\n",
      "examples/linter/missing.py:5:8: W0101: Unreachable code (unreachable)\n",
      "examples/linter/missing.py:5:12: C0104: Disallowed name \"foo\" (disallowed-name)\n",
      "examples/linter/missing.py:6:12: W0104: Statement seems to have no effect (pointless-statement)\n",
      "examples/linter/missing.py:2:4: W0612: Unused variable 'executed' (unused-variable)\n",
      "\n",
      "-----------------------------------\n",
      "Your code has been rated at 0.00/10\n",
      "\n"
     ]
    }
   ],
   "source": [
    "! pylint examples/linter/missing.py "
   ]
  },
  {
   "cell_type": "code",
   "execution_count": 13,
   "metadata": {},
   "outputs": [
    {
     "name": "stdout",
     "output_type": "stream",
     "text": [
      "\u001b[1;33mwarning\u001b[0m\u001b[1m:\u001b[0m \u001b[1m`one-blank-line-before-class` (D203) and `no-blank-line-before-class` (D211) are incompatible. Ignoring `one-blank-line-before-class`.\u001b[0m\n",
      "\u001b[1;33mwarning\u001b[0m\u001b[1m:\u001b[0m \u001b[1m`multi-line-summary-first-line` (D212) and `multi-line-summary-second-line` (D213) are incompatible. Ignoring `multi-line-summary-second-line`.\u001b[0m\n",
      "\u001b[1mexamples/linter/missing.py\u001b[0m\u001b[36m:\u001b[0m1\u001b[36m:\u001b[0m1\u001b[36m:\u001b[0m \u001b[1;31mINP001\u001b[0m File `examples/linter/missing.py` is part of an implicit namespace package. Add an `__init__.py`.\n",
      "\u001b[1mexamples/linter/missing.py\u001b[0m\u001b[36m:\u001b[0m1\u001b[36m:\u001b[0m1\u001b[36m:\u001b[0m \u001b[1;31mD100\u001b[0m Missing docstring in public module\n",
      "\u001b[1mexamples/linter/missing.py\u001b[0m\u001b[36m:\u001b[0m1\u001b[36m:\u001b[0m5\u001b[36m:\u001b[0m \u001b[1;31mANN201\u001b[0m Missing return type annotation for public function `process_stuff`\n",
      "\u001b[1mexamples/linter/missing.py\u001b[0m\u001b[36m:\u001b[0m1\u001b[36m:\u001b[0m5\u001b[36m:\u001b[0m \u001b[1;31mD103\u001b[0m Missing docstring in public function\n",
      "\u001b[1mexamples/linter/missing.py\u001b[0m\u001b[36m:\u001b[0m1\u001b[36m:\u001b[0m19\u001b[36m:\u001b[0m \u001b[1;31mANN001\u001b[0m Missing type annotation for function argument `params`\n",
      "\u001b[1mexamples/linter/missing.py\u001b[0m\u001b[36m:\u001b[0m2\u001b[36m:\u001b[0m5\u001b[36m:\u001b[0m \u001b[1;31mF841\u001b[0m Local variable `executed` is assigned to but never used\n",
      "\u001b[1mexamples/linter/missing.py\u001b[0m\u001b[36m:\u001b[0m4\u001b[36m:\u001b[0m15\u001b[36m:\u001b[0m \u001b[1;31mTRY003\u001b[0m Avoid specifying long messages outside the exception class\n",
      "\u001b[1mexamples/linter/missing.py\u001b[0m\u001b[36m:\u001b[0m4\u001b[36m:\u001b[0m26\u001b[36m:\u001b[0m \u001b[1;31mQ000\u001b[0m [\u001b[36m*\u001b[0m] Single quotes found but double quotes preferred\n",
      "\u001b[1mexamples/linter/missing.py\u001b[0m\u001b[36m:\u001b[0m4\u001b[36m:\u001b[0m26\u001b[36m:\u001b[0m \u001b[1;31mEM101\u001b[0m Exception must not use a string literal, assign to variable first\n",
      "\u001b[1mexamples/linter/missing.py\u001b[0m\u001b[36m:\u001b[0m6\u001b[36m:\u001b[0m13\u001b[36m:\u001b[0m \u001b[1;31mB018\u001b[0m Found useless expression. Either assign it to a variable or remove it.\n",
      "\u001b[1mexamples/linter/missing.py\u001b[0m\u001b[36m:\u001b[0m6\u001b[36m:\u001b[0m24\u001b[36m:\u001b[0m \u001b[1;31mW292\u001b[0m [\u001b[36m*\u001b[0m] No newline at end of file\n",
      "Found 11 errors.\n",
      "[\u001b[36m*\u001b[0m] 2 fixable with the `--fix` option (2 hidden fixes can be enabled with the `--unsafe-fixes` option).\n"
     ]
    }
   ],
   "source": [
    "! ruff --select ALL examples/linter/missing.py "
   ]
  },
  {
   "cell_type": "code",
   "execution_count": null,
   "metadata": {
    "collapsed": true,
    "jupyter": {
     "outputs_hidden": true
    },
    "slideshow": {
     "slide_type": "subslide"
    }
   },
   "outputs": [],
   "source": [
    "%%file examples/linter/numpy_check.py\n",
    "import numpy as np\n",
    "\n",
    "a = np.zeros((10, 10), dtype=np.int322)\n",
    "np.sum(a, axes=0)"
   ]
  },
  {
   "cell_type": "code",
   "execution_count": 9,
   "metadata": {},
   "outputs": [
    {
     "name": "stdout",
     "output_type": "stream",
     "text": [
      "************* Module numpy_check\n",
      "examples/linter/numpy_check.py:4:0: C0304: Final newline missing (missing-final-newline)\n",
      "examples/linter/numpy_check.py:1:0: C0114: Missing module docstring (missing-module-docstring)\n",
      "examples/linter/numpy_check.py:4:0: E1123: Unexpected keyword argument 'axes' in function call (unexpected-keyword-arg)\n",
      "\n",
      "-----------------------------------\n",
      "Your code has been rated at 0.00/10\n",
      "\n"
     ]
    }
   ],
   "source": [
    "! pylint examples/linter/numpy_check.py "
   ]
  },
  {
   "cell_type": "code",
   "execution_count": 11,
   "metadata": {},
   "outputs": [
    {
     "name": "stdout",
     "output_type": "stream",
     "text": [
      "\u001b[1;33mwarning\u001b[0m\u001b[1m:\u001b[0m \u001b[1m`one-blank-line-before-class` (D203) and `no-blank-line-before-class` (D211) are incompatible. Ignoring `one-blank-line-before-class`.\u001b[0m\n",
      "\u001b[1;33mwarning\u001b[0m\u001b[1m:\u001b[0m \u001b[1m`multi-line-summary-first-line` (D212) and `multi-line-summary-second-line` (D213) are incompatible. Ignoring `multi-line-summary-second-line`.\u001b[0m\n",
      "\u001b[1mexamples/linter/numpy_check.py\u001b[0m\u001b[36m:\u001b[0m1\u001b[36m:\u001b[0m1\u001b[36m:\u001b[0m \u001b[1;31mINP001\u001b[0m File `examples/linter/numpy_check.py` is part of an implicit namespace package. Add an `__init__.py`.\n",
      "\u001b[1mexamples/linter/numpy_check.py\u001b[0m\u001b[36m:\u001b[0m1\u001b[36m:\u001b[0m1\u001b[36m:\u001b[0m \u001b[1;31mD100\u001b[0m Missing docstring in public module\n",
      "\u001b[1mexamples/linter/numpy_check.py\u001b[0m\u001b[36m:\u001b[0m4\u001b[36m:\u001b[0m18\u001b[36m:\u001b[0m \u001b[1;31mW292\u001b[0m [\u001b[36m*\u001b[0m] No newline at end of file\n",
      "Found 3 errors.\n",
      "[\u001b[36m*\u001b[0m] 1 fixable with the `--fix` option.\n"
     ]
    }
   ],
   "source": [
    "! ruff --select ALL examples/linter/numpy_check.py "
   ]
  },
  {
   "cell_type": "code",
   "execution_count": null,
   "metadata": {
    "collapsed": true,
    "jupyter": {
     "outputs_hidden": true
    },
    "slideshow": {
     "slide_type": "subslide"
    }
   },
   "outputs": [],
   "source": [
    "%%file examples/linter/similarities/module1.py\n",
    "\n",
    "def function1(array):\n",
    "    for i in range(10):\n",
    "        for j in range(10):\n",
    "            if (i+j) & 1:\n",
    "                array[i][j] = 1\n",
    "            else:\n",
    "                array[i][j] = 0                "
   ]
  },
  {
   "cell_type": "code",
   "execution_count": null,
   "metadata": {
    "collapsed": true,
    "jupyter": {
     "outputs_hidden": true
    }
   },
   "outputs": [],
   "source": [
    "%%file examples/linter/similarities/module2.py\n",
    "\n",
    "def function2(array):\n",
    "    print(array[0])\n",
    "    for i in range(10):\n",
    "        for j in range(10):\n",
    "            if (i+j) & 1:\n",
    "                array[i][j] = 1\n",
    "            else:\n",
    "                array[i][j] = 0"
   ]
  },
  {
   "cell_type": "code",
   "execution_count": 10,
   "metadata": {},
   "outputs": [
    {
     "name": "stdout",
     "output_type": "stream",
     "text": [
      "************* Module similarities.module1\n",
      "examples/linter/similarities/module1.py:8:0: C0304: Final newline missing (missing-final-newline)\n",
      "examples/linter/similarities/module1.py:1:0: C0114: Missing module docstring (missing-module-docstring)\n",
      "examples/linter/similarities/module1.py:2:0: C0116: Missing function or method docstring (missing-function-docstring)\n",
      "************* Module similarities.module2\n",
      "examples/linter/similarities/module2.py:9:0: C0304: Final newline missing (missing-final-newline)\n",
      "examples/linter/similarities/module2.py:1:0: C0114: Missing module docstring (missing-module-docstring)\n",
      "examples/linter/similarities/module2.py:2:0: C0116: Missing function or method docstring (missing-function-docstring)\n",
      "examples/linter/similarities/module2.py:1:0: R0801: Similar lines in 2 files\n",
      "==similarities.module1:[2:8]\n",
      "==similarities.module2:[3:9]\n",
      "    for i in range(10):\n",
      "        for j in range(10):\n",
      "            if (i+j) & 1:\n",
      "                array[i][j] = 1\n",
      "            else:\n",
      "                array[i][j] = 0 (duplicate-code)\n",
      "\n",
      "-----------------------------------\n",
      "Your code has been rated at 4.62/10\n",
      "\n"
     ]
    }
   ],
   "source": [
    "! pylint examples/linter/similarities "
   ]
  },
  {
   "cell_type": "code",
   "execution_count": 15,
   "metadata": {},
   "outputs": [
    {
     "name": "stdout",
     "output_type": "stream",
     "text": [
      "\u001b[1;33mwarning\u001b[0m\u001b[1m:\u001b[0m \u001b[1m`one-blank-line-before-class` (D203) and `no-blank-line-before-class` (D211) are incompatible. Ignoring `one-blank-line-before-class`.\u001b[0m\n",
      "\u001b[1;33mwarning\u001b[0m\u001b[1m:\u001b[0m \u001b[1m`multi-line-summary-first-line` (D212) and `multi-line-summary-second-line` (D213) are incompatible. Ignoring `multi-line-summary-second-line`.\u001b[0m\n",
      "\u001b[1mexamples/linter/similarities/__init__.py\u001b[0m\u001b[36m:\u001b[0m1\u001b[36m:\u001b[0m1\u001b[36m:\u001b[0m \u001b[1;31mD104\u001b[0m Missing docstring in public package\n",
      "\u001b[1mexamples/linter/similarities/module1.py\u001b[0m\u001b[36m:\u001b[0m1\u001b[36m:\u001b[0m1\u001b[36m:\u001b[0m \u001b[1;31mD100\u001b[0m Missing docstring in public module\n",
      "\u001b[1mexamples/linter/similarities/module1.py\u001b[0m\u001b[36m:\u001b[0m2\u001b[36m:\u001b[0m5\u001b[36m:\u001b[0m \u001b[1;31mANN201\u001b[0m Missing return type annotation for public function `function1`\n",
      "\u001b[1mexamples/linter/similarities/module1.py\u001b[0m\u001b[36m:\u001b[0m2\u001b[36m:\u001b[0m5\u001b[36m:\u001b[0m \u001b[1;31mD103\u001b[0m Missing docstring in public function\n",
      "\u001b[1mexamples/linter/similarities/module1.py\u001b[0m\u001b[36m:\u001b[0m2\u001b[36m:\u001b[0m15\u001b[36m:\u001b[0m \u001b[1;31mANN001\u001b[0m Missing type annotation for function argument `array`\n",
      "\u001b[1mexamples/linter/similarities/module1.py\u001b[0m\u001b[36m:\u001b[0m8\u001b[36m:\u001b[0m32\u001b[36m:\u001b[0m \u001b[1;31mW291\u001b[0m [\u001b[36m*\u001b[0m] Trailing whitespace\n",
      "\u001b[1mexamples/linter/similarities/module1.py\u001b[0m\u001b[36m:\u001b[0m8\u001b[36m:\u001b[0m48\u001b[36m:\u001b[0m \u001b[1;31mW292\u001b[0m [\u001b[36m*\u001b[0m] No newline at end of file\n",
      "\u001b[1mexamples/linter/similarities/module2.py\u001b[0m\u001b[36m:\u001b[0m1\u001b[36m:\u001b[0m1\u001b[36m:\u001b[0m \u001b[1;31mD100\u001b[0m Missing docstring in public module\n",
      "\u001b[1mexamples/linter/similarities/module2.py\u001b[0m\u001b[36m:\u001b[0m2\u001b[36m:\u001b[0m5\u001b[36m:\u001b[0m \u001b[1;31mANN201\u001b[0m Missing return type annotation for public function `function2`\n",
      "\u001b[1mexamples/linter/similarities/module2.py\u001b[0m\u001b[36m:\u001b[0m2\u001b[36m:\u001b[0m5\u001b[36m:\u001b[0m \u001b[1;31mD103\u001b[0m Missing docstring in public function\n",
      "\u001b[1mexamples/linter/similarities/module2.py\u001b[0m\u001b[36m:\u001b[0m2\u001b[36m:\u001b[0m15\u001b[36m:\u001b[0m \u001b[1;31mANN001\u001b[0m Missing type annotation for function argument `array`\n",
      "\u001b[1mexamples/linter/similarities/module2.py\u001b[0m\u001b[36m:\u001b[0m3\u001b[36m:\u001b[0m5\u001b[36m:\u001b[0m \u001b[1;31mT201\u001b[0m `print` found\n",
      "\u001b[1mexamples/linter/similarities/module2.py\u001b[0m\u001b[36m:\u001b[0m9\u001b[36m:\u001b[0m32\u001b[36m:\u001b[0m \u001b[1;31mW292\u001b[0m [\u001b[36m*\u001b[0m] No newline at end of file\n",
      "Found 13 errors.\n",
      "[\u001b[36m*\u001b[0m] 3 fixable with the `--fix` option.\n"
     ]
    }
   ],
   "source": [
    "! ruff --select ALL examples/linter/similarities "
   ]
  },
  {
   "cell_type": "markdown",
   "metadata": {},
   "source": [
    "## Avantages de pylint"
   ]
  },
  {
   "cell_type": "code",
   "execution_count": 16,
   "metadata": {
    "slideshow": {
     "slide_type": "subslide"
    }
   },
   "outputs": [
    {
     "name": "stdout",
     "output_type": "stream",
     "text": [
      "Overwriting examples/linter/numpy_doc.py\n"
     ]
    }
   ],
   "source": [
    "%%file examples/linter/numpy_doc.py\n",
    "\n",
    "def awesome_function(tomatoes, banana):\n",
    "    \"\"\"\n",
    "    This is an awesome function !!\n",
    "\n",
    "    Parameters\n",
    "    ----------\n",
    "\n",
    "    tomatoes:\n",
    "        red fruit\n",
    "\n",
    "    apple : int\n",
    "        number of apple\n",
    "    \"\"\"\n",
    "\n",
    "    print(tomatoes)\n",
    "    print(banana)\n",
    "\n",
    "    return tomatoes[0]\n"
   ]
  },
  {
   "cell_type": "code",
   "execution_count": 17,
   "metadata": {},
   "outputs": [
    {
     "name": "stdout",
     "output_type": "stream",
     "text": [
      "************* Module numpy_doc\n",
      "examples/linter/numpy_doc.py:1:0: C0114: Missing module docstring (missing-module-docstring)\n",
      "examples/linter/numpy_doc.py:2:0: W9015: \"banana\" missing in parameter documentation (missing-param-doc)\n",
      "examples/linter/numpy_doc.py:2:0: W9016: \"banana, tomatoes\" missing in parameter type documentation (missing-type-doc)\n",
      "examples/linter/numpy_doc.py:2:0: W9017: \"apple\" differing in parameter documentation (differing-param-doc)\n",
      "examples/linter/numpy_doc.py:2:0: W9018: \"apple\" differing in parameter type documentation (differing-type-doc)\n",
      "\n",
      "-----------------------------------\n",
      "Your code has been rated at 0.00/10\n",
      "\n"
     ]
    }
   ],
   "source": [
    "! pylint --load-plugins=pylint.extensions.docparams examples/linter/numpy_doc.py"
   ]
  },
  {
   "cell_type": "code",
   "execution_count": 18,
   "metadata": {
    "slideshow": {
     "slide_type": "subslide"
    }
   },
   "outputs": [
    {
     "name": "stdout",
     "output_type": "stream",
     "text": [
      "Overwriting examples/linter/spellcheck.py\n"
     ]
    }
   ],
   "source": [
    "%%file examples/linter/spellcheck.py\n",
    "\n",
    "def some_function():\n",
    "    \"\"\"\n",
    "    This fonction does nothing.\n",
    "\n",
    "    But it's a example of spell checking\n",
    "    using pylint.\n",
    "\n",
    "    Don't look at the grammar and work only\n",
    "    for doc strings and comments.\n",
    "    \"\"\"\n",
    "    pass"
   ]
  },
  {
   "cell_type": "code",
   "execution_count": 24,
   "metadata": {},
   "outputs": [
    {
     "name": "stdout",
     "output_type": "stream",
     "text": [
      "usage: pylint [options]\n",
      "pylint: error: argument --spelling-dict: invalid choice: 'en_US' (choose from '')\n"
     ]
    }
   ],
   "source": [
    "! pylint --spelling-dict en_US examples/linter/spellcheck.py"
   ]
  },
  {
   "cell_type": "markdown",
   "metadata": {
    "slideshow": {
     "slide_type": "slide"
    }
   },
   "source": [
    "## Références\n",
    "\n",
    "- [12 years of Pylint](http://pcmanticore.github.io/pylint-talks) - Claudio Paupa\n",
    "\n",
    "- [don't use this code](https://github.com/markshannon/dont_use_this_code) - Mark Shannon"
   ]
  },
  {
   "cell_type": "code",
   "execution_count": null,
   "metadata": {},
   "outputs": [],
   "source": []
  }
 ],
 "metadata": {
  "celltoolbar": "Slideshow",
  "kernelspec": {
   "display_name": "Python 3 (ipykernel)",
   "language": "python",
   "name": "python3"
  },
  "language_info": {
   "codemirror_mode": {
    "name": "ipython",
    "version": 3
   },
   "file_extension": ".py",
   "mimetype": "text/x-python",
   "name": "python",
   "nbconvert_exporter": "python",
   "pygments_lexer": "ipython3",
   "version": "3.11.6"
  },
  "livereveal": {
   "autolaunch": true,
   "scroll": true,
   "width": "80%"
  }
 },
 "nbformat": 4,
 "nbformat_minor": 4
}
