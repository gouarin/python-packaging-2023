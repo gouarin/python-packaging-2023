{
 "cells": [
  {
   "cell_type": "markdown",
   "metadata": {},
   "source": [
    "# Distribuer son application\n",
    "\n",
    ":::{note} Les objectifs de cette partie\n",
    "- Comprendre comment créer les différentes versions de son application\n",
    "- Pouvoir mettre ses versions sur PyPi\n",
    "- Pouvoir mettre ses versions sur conda\n",
    ":::\n",
    "\n",
    "## PyPi\n",
    "\n",
    "Nous allons dans un premier temps nous intéresser à PyPi. Maintenant que nous avons un fichier `pyproject.toml` qui explique comment construire le package ainsi que ces dépendances, nous sommes en mesure de construire des distributions.\n",
    "\n",
    ":::{attention}\n",
    "Nous utiliserons dans la suite le package `build` pour créer les différentes versions.\n",
    ":::\n",
    "\n",
    "Dans PyPi, elles peuvent être de deux sortes\n",
    "\n",
    "### Archive et wheel"
   ]
  },
  {
   "cell_type": "markdown",
   "metadata": {
    "slideshow": {
     "slide_type": "subslide"
    }
   },
   "source": [
    "- `sdist` crée une archive de votre package.\n",
    "\n",
    "    Lorsqu'un utilisateur utilise `pip` pour l'installer, l'archive est téléchargée puis la commande `pip install` est exécutée comme vu précédemment. La ligne de commande\n",
    "\n",
    "    ```bash\n",
    "    python -m build --sdist\n",
    "    ```\n",
    "\n",
    "    crée une archive dans le répertoire `dist`."
   ]
  },
  {
   "cell_type": "markdown",
   "metadata": {},
   "source": [
    "- `bdist` crée un binaire et est donc spécifique à une plateforme si des modules sont compilés. Ceci permet d'avoir une installation beaucoup plus rapide du fait qu'il n'y a pas de processus de compilation. Ce binaire est appelé `wheels` et est obtenu à partir de la ligne de commande\n",
    "\n",
    "  ```bash\n",
    "  python -m build --wheel\n",
    "  ```\n",
    "\n",
    "  Il existe plusieurs variantes:\n",
    "\n",
    "    1. Lorsque le package ne contient que des fichiers Python.\n",
    " \n",
    "       On a alors dans le répertoire `dist` le fichier `calculator-0.1.1-py3-none-any.whl`.\n",
    "\n",
    "    2. Lorsque le package contient des fichiers compilés.\n",
    " \n",
    "       On a alors dans le répertoire `dist` le fichier `calculator-0.1.0-cp312-cp312-macosx_11_0_arm64.whl`. Ce fichier nous renseigne sur la version Python, l'OS et le type d'architecture pour qui est destiné ce binaire. Dans tout autre configuration, le binaire ne sera pas installable.\n",
    "       Il vous faut donc toutes les variantes pour pouvoir avoir l'ensemble de binaires. \n",
    "       \n",
    "       :::{note}\n",
    "       C'est là que les systèmes d'intégration entre en jeu et plus particulièrement [github action](https://docs.github.com/fr/actions).\n",
    "\n",
    "       On pourra regarder notamment [cbuildwhell](https://cibuildwheel.readthedocs.io).\n",
    "       :::"
   ]
  },
  {
   "cell_type": "markdown",
   "metadata": {},
   "source": [
    "Maintenant que vous avez les différentes versions, vous pouvez les mettre sur PyPi pour que d'autres personnes puissent utiliser votre application."
   ]
  },
  {
   "cell_type": "markdown",
   "metadata": {},
   "source": [
    "### twine\n",
    "\n",
    "`twine` permet de mettre les distributions créées se trouvant dans le répertoire `dist` sur PyPi. Il existe deux sites\n",
    "\n",
    "- https://pypi.org/ (le site officiel)\n",
    "- https://test.pypi.org/ (le site pour faire des tests)\n",
    "\n",
    "Avant d'utiliser `twine`, il est nécessaire de se créer un compte \n",
    "\n",
    "- https://pypi.org/account/register/\n",
    "- https://test.pypi.org/account/register/\n",
    "\n",
    "Pour mettre l'ensemble des distributions sur\n",
    "\n",
    "- `pypi.org`\n",
    "\n",
    "    ```bash\n",
    "    twine upload dist/*\n",
    "    ```\n",
    "\n",
    "- `test.pypi.org`\n",
    "\n",
    "    ```bash\n",
    "    twine upload --repository-url https://test.pypi.org/legacy/ dist/*\n",
    "    ```\n",
    "\n",
    "Une fois que vous avez effectué l'upload, vous pouvez rechercher votre application\n",
    "\n",
    "- `pypi.org`\n",
    "\n",
    "    ```bash\n",
    "    pip search calculator\n",
    "    ```\n",
    "    \n",
    "- `test.pypi.org`\n",
    "\n",
    "    ```bash\n",
    "    pip search --index https://testpypi.python.org/pypi calculator\n",
    "    ```\n",
    "    \n",
    ":::{tip} Configuration de PyPi\n",
    "\n",
    "Pour éviter de taper son mot de passe à chaque fois, il es possible d'écrire un fichier `~/.pypirc` avec les informations suivantes\n",
    "\n",
    "```\n",
    "[pypi]\n",
    "username = <username>\n",
    "password = <password>\n",
    "```"
   ]
  },
  {
   "cell_type": "markdown",
   "metadata": {
    "slideshow": {
     "slide_type": "subslide"
    }
   },
   "source": [
    "## conda\n",
    "\n",
    "Il est également possible de mettre son package sur conda. Comme pour PyPi, il est necessaire de se créer un compte pour pouvoir avoir sa propre `channel` ([https://anaconda.org/](https://anaconda.org/)).\n",
    "\n",
    "Il est ensuite nécessaire d'installer différents outils pour pouvoir uploader vos fichiers.\n",
    "\n",
    "```bash\n",
    "conda install conda-build anaconda-client\n",
    "```"
   ]
  },
  {
   "cell_type": "markdown",
   "metadata": {
    "slideshow": {
     "slide_type": "subslide"
    }
   },
   "source": [
    "Il est possible d'installer des packages qui ne sont pas forcément écrits en Python. \n",
    "\n",
    "[`conda-forge`](https://conda-forge.org/) est un endroit où l'on peut trouver ces packages. \n",
    "\n",
    "Le but est d'écrire des recettes permettant de compiler le projet sur différentes plateformes (linux, mac OSX, windows).\n",
    "\n",
    "Le processus de soumission peut être assez long, c'est pourquoi nous utiliserons notre propre channel dans la suite. Si vous souhaitez mettre vos applications sur `conda-forge` (ce qui est une très bonne idée car cela offre plus de visibilité que sur sa propre channel), il suffit d'aller ici: [https://conda-forge.org/docs/maintainer/00_intro.html](https://conda-forge.org/docs/maintainer/00_intro.html)."
   ]
  },
  {
   "attachments": {},
   "cell_type": "markdown",
   "metadata": {
    "slideshow": {
     "slide_type": "slide"
    }
   },
   "source": [
    "### Création d'une recette\n",
    "\n",
    "Pour que conda puisse construire le binaire de votre application, il lui faut plusieurs fichiers que l'on retourve généralement dans un répertoire `recipes`.\n",
    "\n",
    "- `meta.yaml`\n",
    "  \n",
    "   Ce fichier définit l'ensemble des méta données de la recette permettant de créer le package conda (voir [https://docs.conda.io/projects/conda-build/en/latest/resources/define-metadata.html](https://docs.conda.io/projects/conda-build/en/latest/resources/define-metadata.html))\n",
    "\n",
    "- `build.sh` \n",
    "\n",
    "    Ce fichier indique comment construire des parties qui ne peuvent pas être produite par la recette (compilation, ajout de fichiers externes, ...) pour les systèmes linux et macos.\n",
    "  \n",
    "- `build.bat`\n",
    "\n",
    "    Ce fichier indique comment construire des parties qui ne peuvent pas être produite par la recette (compilation, ajout de fichiers externes, ...) pour le système windows.\n",
    "\n",
    "\n",
    "Nous ne verrons ici que l'écriture d'un fichier `meta.yaml`. Reprenons l'exemple de l'application `calculator` et regardons ce que ça donne\n",
    "\n",
    "```yaml\n",
    "{% set name = \"calculator\" %}\n",
    "{% set version = \"0.1.1\" %}\n",
    "\n",
    "package:\n",
    "  name: '{{ name|lower }}'\n",
    "  version: '{{ version }}'\n",
    "\n",
    "source:\n",
    "  path: ../\n",
    "\n",
    "build:\n",
    "  number: 0\n",
    "  script: python setup.py install\n",
    "\n",
    "requirements:\n",
    "  build:\n",
    "    - python\n",
    "    - setuptools\n",
    "  run:\n",
    "    - python\n",
    "\n",
    "test:\n",
    "  imports:\n",
    "    - calculator\n",
    "\n",
    "about:\n",
    "  home: http://github.com/gouarin/calculator\n",
    "  license: MIT\n",
    "  description: Simple calculator project\n",
    "\n",
    "extra:\n",
    "  recipe-maintainers: Loic Gouarin <loic.gouarin@gmail.com>\n",
    "```\n",
    "\n",
    "Une fois les fichiers du répertoire `recipes` sont écrits, il faut exécuter la commande suivante\n",
    "\n",
    "```bash\n",
    "conda build recipes\n",
    "```\n",
    "\n",
    "A la fin de la procédure, vous devriez voir où il a mis le package en local. Vous pouvez alors essayer de l'installer en faisant\n",
    "\n",
    "```bash\n",
    "conda install --use-local calculator\n",
    "```\n",
    "\n",
    "Si tout s'est bien passé, vous pouvez à présent le mettre sur anaconda dans votre channel pour que d'autres puissent l'installer. Il vous faut pour cela `anaconda-client`.\n",
    "\n",
    "```bash\n",
    "conda install anaconda-client\n",
    "```\n",
    "\n",
    "Vous pouvez maintenant l'uploader.\n",
    "\n",
    "```bash\n",
    "anaconda upload /home/loic/miniconda3/conda-bld/linux-64/calculator-0.1.1-py36h585410b_0.tar.bz2\n",
    "```\n",
    "\n",
    "## Références\n",
    "\n",
    "- [Python Packaging User Guide](https://packaging.python.org/)\n",
    "- [Les aventuriers du packaging perdu](https://youtu.be/Y5xMQYw9lls)\n",
    "- [Inside the Cheeseshop: How Python Packaging Works](https://www.youtube.com/watch?v=AQsZsgJ30AE)\n"
   ]
  }
 ],
 "metadata": {
  "kernelspec": {
   "display_name": "Python 3 (ipykernel)",
   "language": "python",
   "name": "python3"
  },
  "language_info": {
   "codemirror_mode": {
    "name": "ipython",
    "version": 3
   },
   "file_extension": ".py",
   "mimetype": "text/x-python",
   "name": "python",
   "nbconvert_exporter": "python",
   "pygments_lexer": "ipython3",
   "version": "3.11.6"
  }
 },
 "nbformat": 4,
 "nbformat_minor": 4
}
