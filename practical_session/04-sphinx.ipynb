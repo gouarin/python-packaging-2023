{
 "cells": [
  {
   "cell_type": "markdown",
   "metadata": {
    "slideshow": {
     "slide_type": "slide"
    }
   },
   "source": [
    "# Documenter son package"
   ]
  },
  {
   "attachments": {},
   "cell_type": "markdown",
   "metadata": {
    "slideshow": {
     "slide_type": "slide"
    }
   },
   "source": [
    ":::{note} Les objectifs de cette partie\n",
    "- Comprendre l'importance d'une documentation.\n",
    "- Avoir une documentation complète pour son projet.\n",
    "- Comprendre comment cette documentation est construite via [`sphinx`](http://www.sphinx-doc.org).\n",
    "- La publier sur [`Read the Docs`](https://readthedocs.org/).\n",
    ":::\n",
    "\n",
    "\n",
    "La documentation est indispensable pour que des personnes souhaitent utiliser votre application, faire remonter des bugs ou même contribuer. Pour essayer de satisfaire le plus grand nombre, une documentation devrait au moins contenir\n",
    "\n",
    "- des tutoriels,\n",
    "- des petits guides sur les domaines \n",
    "- une documentation de référence (par exemple l'API).\n",
    "\n",
    "Le fait d'écrire ces différentes parties a d'autres avantages\n",
    "\n",
    "- se rappeler ce qu'on a fait il y a six mois.\n",
    "- Avoir un meilleur code.\n",
    "- Etre un meilleur rédacteur en anglais (issue, email, ...)"
   ]
  },
  {
   "cell_type": "markdown",
   "metadata": {
    "slideshow": {
     "slide_type": "slide"
    }
   },
   "source": [
    "Pour écrire de la documentation d'applications Python, [sphinx](https://www.sphinx-doc.org/en/master/) est largement utilisé maintenant. Il s'appuie sur [ReadTheDocs](https://about.readthedocs.com) pour la diffusion en ligne. Il existe différentes extensions à sphinx qui offrent d'autres fonctionnalités comme [nbsphinx](https://nbsphinx.readthedocs.io/) qui permet d'intégrer des notebooks jupyter à la documentation finale.\n",
    "\n",
    ":::{image} ./images/sphinx.png\n",
    ":alt: sphinx\n",
    ":width: 100%\n",
    ":align: center\n",
    ":::\n",
    "\n",
    "\n",
    ":::{note} Remarque\n",
    "D'autres projets dans des langages différents utilisent également sphinx pour leur documentation. On peut par exemple utiliser [breathe](https://breathe.readthedocs.io) qui permet d'intégrer de la documentation doxygen facilement.\n",
    ":::"
   ]
  },
  {
   "cell_type": "markdown",
   "metadata": {
    "slideshow": {
     "slide_type": "slide"
    }
   },
   "source": [
    "Différents formats peuvent être utilisés pour la rédaction de documentation\n",
    "\n",
    "- markdown\n",
    "- restructured text\n",
    "- notebook jupyter\n",
    "- ...\n",
    "\n",
    ":::{important}\n",
    "Il y a quelques années, utiliser du rst offrait plus de fonctionnalités et de flexibilités car nous pouvions décrire nous même nos balises et le comportement associé. Maintenant, avec l'arrivée de [myst](https://mystmd.org/), les choses évoluent et permettent d'enrichir la syntaxe markdown. D'ailleurs, l'ensemble de ce site est écrit en utilisant myst.\n",
    ":::"
   ]
  },
  {
   "cell_type": "markdown",
   "metadata": {
    "slideshow": {
     "slide_type": "slide"
    }
   },
   "source": [
    "## Initialiser sa documentation avec sphinx\n"
   ]
  },
  {
   "cell_type": "markdown",
   "metadata": {
    "slideshow": {
     "slide_type": "subslide"
    }
   },
   "source": [
    "Il vous faut dans un premier temps installer sphinx à l'aide d'une des commandes suivantes\n",
    "\n",
    "- ```bash\n",
    "  pip install sphinx\n",
    "  ```\n",
    "\n",
    "- ```bash\n",
    "  mamba install sphinx\n",
    "  ```"
   ]
  },
  {
   "attachments": {},
   "cell_type": "markdown",
   "metadata": {
    "slideshow": {
     "slide_type": "subslide"
    }
   },
   "source": [
    "Nous pouvons à présent initier l'arborescence de la documentation demandée par sphinx Pour ce faire\n",
    "\n",
    "- Créer un répertoire `doc` à la racine de son projet\n",
    "- Aller dans ce répertoire\n",
    "- Exécuter la commande suivante\n",
    "\n",
    "  ```bash\n",
    "  sphinx-quickstart\n",
    "  ```\n",
    "\n",
    "- Répondre aux questions !!!\n",
    "\n",
    "Il est toujours possible de changer ses réponses en modifiant le fichier de configuration créé lors de cette phase."
   ]
  },
  {
   "cell_type": "markdown",
   "metadata": {
    "slideshow": {
     "slide_type": "subslide"
    }
   },
   "source": [
    "Vous devriez obtenir une arborescence qui ressemble à ça"
   ]
  },
  {
   "cell_type": "code",
   "execution_count": 6,
   "metadata": {},
   "outputs": [
    {
     "name": "stdout",
     "output_type": "stream",
     "text": [
      "\u001b[01;34mexamples/calculator/doc\u001b[00m\r\n",
      "├── \u001b[01;34m_build\u001b[00m\r\n",
      "├── conf.py\r\n",
      "├── index.rst\r\n",
      "├── make.bat\r\n",
      "├── Makefile\r\n",
      "├── \u001b[01;34m_static\u001b[00m\r\n",
      "└── \u001b[01;34m_templates\u001b[00m\r\n",
      "\r\n",
      "3 directories, 4 files\r\n"
     ]
    }
   ],
   "source": [
    "! tree examples/calculator/doc"
   ]
  },
  {
   "cell_type": "markdown",
   "metadata": {
    "slideshow": {
     "slide_type": "slide"
    }
   },
   "source": [
    "## Les extensions de sphinx\n",
    "\n",
    "Comme dit précédemment, il en existe de nombreuses. Nous donnons ici un échantillon dont on se sert assez régulièrement pour la documentation de logiciel scientifique."
   ]
  },
  {
   "attachments": {},
   "cell_type": "markdown",
   "metadata": {
    "slideshow": {
     "slide_type": "subslide"
    }
   },
   "source": [
    "### autodoc\n",
    "\n",
    "Cette extension permet de documenter automatiquement\n",
    "\n",
    "- des modules,\n",
    "- des classes, \n",
    "- des fonctions,\n",
    "\n",
    "à partir de leur `docstring`.\n",
    "\n",
    "Il faut ajouter dans les extensions de `conf.py`\n",
    "\n",
    "extensions = [..., \"sphinx.ext.autodoc\", ...]\n",
    "\n",
    "Voici un exemple de `docstring`\n",
    "\n",
    "def add(value1, value2):\n",
    "    \"\"\"add two values.\n",
    "    :param value1: The first value\n",
    "    :type value1: float or int\n",
    "    :param value2: The second value\n",
    "    :type value2: float or int\n",
    "    :returns: the addition between value1 and value2\n",
    "    :rtype: float or int\n",
    "    \"\"\"\n",
    "    pass\n",
    "\n",
    "Pour insérer la documentation de cette fonction dans la documentation, il suffit de créer un fichier `rst` avec comme contenu\n",
    "\n",
    "```rst\n",
    ".. autofunction:: add\n",
    "```\n",
    "\n",
    "Si vous souhaitez documenter un module\n",
    "\n",
    "```rst\n",
    ".. automodule:: mymod\n",
    "   :members:\n",
    "   :undoc-members:\n",
    "```\n",
    "\n",
    "Si vous souhaitez documenter un module\n",
    "\n",
    "```rst\n",
    ".. autoclass:: myclass\n",
    "   :members:\n",
    "   :private-members:\n",
    "   :special-members:\n",
    "```\n",
    "\n",
    "Pour plus d'information, voir la page de [autodoc](http://www.sphinx-doc.org/en/stable/ext/autodoc.html)."
   ]
  },
  {
   "cell_type": "markdown",
   "metadata": {
    "slideshow": {
     "slide_type": "subslide"
    }
   },
   "source": [
    "Il est possible de générer l'ensemble des fichiers `rst` de son API en utilisant le script `sphinx-apidoc`."
   ]
  },
  {
   "cell_type": "code",
   "execution_count": 4,
   "metadata": {},
   "outputs": [],
   "source": [
    "! sphinx-apidoc -f -o api examples/calculator"
   ]
  },
  {
   "cell_type": "markdown",
   "metadata": {
    "slideshow": {
     "slide_type": "slide"
    }
   },
   "source": [
    "### Lisibilité des docstrings"
   ]
  },
  {
   "cell_type": "markdown",
   "metadata": {
    "collapsed": true,
    "jupyter": {
     "outputs_hidden": true
    },
    "slideshow": {
     "slide_type": "subslide"
    }
   },
   "source": [
    "L'utilisation de la sémantique de l'autodoc dans les docstrings est un peu lourde et rend la documentation dans le code difficile à lire.\n",
    "\n",
    "Vous avez deux extensions qui permettent d'améliorer considérablement la lisibilité\n",
    "\n",
    "- [numpydoc](https://numpydoc.readthedocs.io)\n",
    "- [napoleon](http://www.sphinx-doc.org/en/stable/ext/napoleon.html)"
   ]
  },
  {
   "cell_type": "markdown",
   "metadata": {
    "slideshow": {
     "slide_type": "subslide"
    }
   },
   "source": [
    "Nous nous intéresserons dans la suite à l'extension `numpydoc`.\n",
    "\n",
    "Pour l'utiliser, il faut ajouter dans l'extension dans le fichier `conf.py`\n",
    "\n",
    "```python\n",
    "extensions = [..., \"numpydoc\", ...]\n",
    "```\n",
    "\n",
    "Voici un exemple de documentation avec le style NumPy."
   ]
  },
  {
   "cell_type": "code",
   "execution_count": null,
   "metadata": {},
   "outputs": [],
   "source": [
    "def add(value1, value2):\n",
    "    \"\"\"add two values.\n",
    "\n",
    "    Parameters\n",
    "    ----------\n",
    "    value1 : float or int\n",
    "        the first value\n",
    "    value2  : float or int\n",
    "        the second value\n",
    "\n",
    "    Returns\n",
    "    -------\n",
    "    float or int\n",
    "        the addition between value1 and value2\n",
    "\n",
    "    \"\"\"\n",
    "    pass"
   ]
  },
  {
   "cell_type": "markdown",
   "metadata": {
    "slideshow": {
     "slide_type": "slide"
    }
   },
   "source": [
    "### nbsphinx"
   ]
  },
  {
   "cell_type": "markdown",
   "metadata": {
    "slideshow": {
     "slide_type": "subslide"
    }
   },
   "source": [
    "Il est toujours intéressant de mettre des tutoriels dans son package permettant aux nouveaux utilisateurs de se familiariser rapidement avec l'outil. Les `notebooks` s'y prêtent très bien. `nbsphinx` permet d'intégrer ces notebooks à la documentation."
   ]
  },
  {
   "cell_type": "markdown",
   "metadata": {
    "slideshow": {
     "slide_type": "subslide"
    }
   },
   "source": [
    "Pour installer l'extension, il suffit de faire\n",
    "\n",
    "```bash\n",
    "pip install nbsphinx\n",
    "```\n",
    "\n",
    "ou\n",
    "\n",
    "```bash\n",
    "mamba install nbsphinx\n",
    "```"
   ]
  },
  {
   "cell_type": "markdown",
   "metadata": {
    "slideshow": {
     "slide_type": "subslide"
    }
   },
   "source": [
    "Pour activer l'extension, il suffit de l'ajouter à la liste extension du fichier `conf.py`\n",
    "\n",
    "```python\n",
    "extensions = [..., 'nbsphinx', ...]\n",
    "```\n",
    "\n",
    ":::{note} Remarque\n",
    "Les notebooks peuvent générer des fichiers temporaires pour sauvegarder l'historique. Il est préférable de les enlever explicitement en renseignant la variable `exclude_pattern` se trouvant dans le fichier `conf.py`\n",
    "\n",
    "```python\n",
    "exclude_patterns = [..., '**.ipynb_checkpoints']\n",
    "```\n",
    ":::"
   ]
  },
  {
   "cell_type": "markdown",
   "metadata": {
    "slideshow": {
     "slide_type": "subslide"
    }
   },
   "source": [
    "Il est possible ensuite de mettre les `notebooks` dans le `toctree` au même titre que les fichiers `rst`.\n",
    "\n",
    ":::{attention}\n",
    "\n",
    "Conserver les notebooks à la racine du projet est préférable pour qu'ils restent bien visible.\n",
    "\n",
    "Dans sphinx, il n'est pas possible de spécifier un autre répertoire où aller chercher la documentation que celui où se trouve le fichier `conf.py`.\n",
    "\n",
    "Une façon de faire est d'utiliser le package [nbsphinx-link](https://pypi.org/project/nbsphinx-link/).\n",
    ":::"
   ]
  },
  {
   "cell_type": "markdown",
   "metadata": {
    "slideshow": {
     "slide_type": "slide"
    }
   },
   "source": [
    "## Read The Docs"
   ]
  },
  {
   "cell_type": "markdown",
   "metadata": {
    "slideshow": {
     "slide_type": "subslide"
    }
   },
   "source": [
    "RTD permet de construire et d'héberger votre documentation sphinx en se basant sur votre CSV (git, mercurial, ...). Chaque `tag` et `branche` sont convertis en version et RTD conserve l'historique des différentes versions.\n",
    "\n",
    "Lorsque vous faites un push sur votre dépôt, RTD lance automatiquement la génération de la documentation ce qui fait que votre documentation est toujours à jour ! Il faut noter également que le multi langue est supporté.\n",
    "\n",
    "Enfin, deux autres caractéristiques intéressantes: le recherche dans la documentation est plus puissante que celle que vous trouvez dans sphinx de base. La documentation est indexée via `elasticsearch` et vous pouvez faire des recherche `plein texte`. Plusieurs formats de sortie sont supportés: html, pdf, zipped html, epub, ...\n",
    "\n",
    ":::{seealso} Pour plus d'information\n",
    "[https://readthedocs.org/](https://readthedocs.org/)\n",
    ":::"
   ]
  },
  {
   "cell_type": "markdown",
   "metadata": {
    "slideshow": {
     "slide_type": "subslide"
    }
   },
   "source": [
    "## Le thème\n",
    "\n",
    "Enfin, sachez qu'il existe différents thèmes pour la documentation. RTD a longtemps eu un thème par défaut appelé `sphinx_rtd_theme`. Depuis l'arrivée de [jupyter-book](https://jupyterbook.org) et de [myst](https://mystmd.org/), les choses évoluent et les sites offrent de plus en plus de possibilités au niveau du placement du contenu et de sa mise en page.\n",
    "\n",
    ":::{seealso} Thème du moment\n",
    "[pydat_sphinx_theme](https://pydata-sphinx-theme.readthedocs.io)\n",
    ":::"
   ]
  },
  {
   "cell_type": "markdown",
   "metadata": {
    "slideshow": {
     "slide_type": "slide"
    }
   },
   "source": [
    "## Références\n",
    "\n",
    "- [Sphinx tutorial](https://github.com/ericholscher/sphinx-tutorial)\n",
    "- [blog d'Eric Holscher](http://ericholscher.com/blog/2016/jul/1/sphinx-and-rtd-for-writers/)\n",
    "- [What to write](https://jacobian.org/writing/what-to-write/) - Jacob Kaplan-Moss\n",
    "- [Teach, Don't Tell](http://stevelosh.com/blog/2013/09/teach-dont-tell/) - Steve Losh "
   ]
  }
 ],
 "metadata": {
  "celltoolbar": "Slideshow",
  "kernelspec": {
   "display_name": "Python 3 (ipykernel)",
   "language": "python",
   "name": "python3"
  },
  "language_info": {
   "codemirror_mode": {
    "name": "ipython",
    "version": 3
   },
   "file_extension": ".py",
   "mimetype": "text/x-python",
   "name": "python",
   "nbconvert_exporter": "python",
   "pygments_lexer": "ipython3",
   "version": "3.11.6"
  },
  "livereveal": {
   "autolaunch": true,
   "scroll": true,
   "width": "80%"
  }
 },
 "nbformat": 4,
 "nbformat_minor": 4
}
