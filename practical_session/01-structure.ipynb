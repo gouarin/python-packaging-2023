{
 "cells": [
  {
   "cell_type": "markdown",
   "metadata": {},
   "source": [
    "# La structure d'une application Python\n",
    "\n",
    "\n",
    ":::{note} Les objectifs de cette partie\n",
    "- Comprendre la différence entre module et package Python\n",
    "- Définir l'arborescence de son application\n",
    "- Comprendre ce que fait `import` et contrôler l'usage de son application\n",
    "- Construire son premier package en utilisant `pyproject.toml`\n",
    ":::\n",
    "\n",
    "Dans cette partie, nous allons voir comment se structure une application Python en donnant un exemple d'arborescence. Celle-ci n'est pas figée mais est utilisée dans la plupart des projets en calcul scientifique (numpy, pandas, scikit-learn) et autres.\n",
    "\n",
    "Une application Python est constituée\n",
    "- de fichiers Python avec l'extension `.py` que l'on appelle des **modules**,\n",
    "- de répertoires contenant des fichiers Python que l'on appelle des **packages**.\n",
    "\n",
    "Les modules et les packages peuvent être utilisés dans l'interpréteur Python en utilisant la commande `import`. Lorsque l'on crée sa propre application, il est important de bien comprendre leur fonctionnement afin de définir les comportements que l'on souhaite pour l'utilisateur final lorsqu'il importe l'ensemble ou une partie du package.\n",
    "\n",
    "## Un module\n",
    "\n",
    "Afin d'illustrer l'utilisation d'un module en Python, nous allons écrire un calculateur qui sait uniquement faire une addition et une soustraction.\n",
    "\n",
    "Voici le fichier `calculator_mod.py`."
   ]
  },
  {
   "cell_type": "code",
   "execution_count": null,
   "metadata": {},
   "outputs": [],
   "source": [
    "%%file calculator_mod.py\n",
    "\"\"\"\n",
    "Calculator module\n",
    "\"\"\"\n",
    "\n",
    "def add(a, b):\n",
    "    \"\"\"\n",
    "    return a + b\n",
    "    \"\"\"\n",
    "    return a + b\n",
    "\n",
    "def sub(a, b):\n",
    "    \"\"\"\n",
    "    return a - b\n",
    "    \"\"\"\n",
    "    return a - b"
   ]
  },
  {
   "cell_type": "markdown",
   "metadata": {},
   "source": [
    "#### Utilisation d'un module\n",
    "\n",
    "Il existe différentes manières d'importer un module en utilisant le mot-clef `import`.\n",
    "\n",
    "1. On peut importer un module via son nom."
   ]
  },
  {
   "cell_type": "code",
   "execution_count": null,
   "metadata": {},
   "outputs": [],
   "source": [
    "import calculator_mod\n",
    "calculator_mod.add(1, 2)"
   ]
  },
  {
   "cell_type": "markdown",
   "metadata": {},
   "source": [
    "2. On peut importer une partie d'un module."
   ]
  },
  {
   "cell_type": "code",
   "execution_count": null,
   "metadata": {},
   "outputs": [],
   "source": [
    "from calculator_mod import sub\n",
    "sub(1, 2)"
   ]
  },
  {
   "cell_type": "markdown",
   "metadata": {},
   "source": [
    "3. On peut importer un module en modifiant son nom d'appel."
   ]
  },
  {
   "cell_type": "code",
   "execution_count": null,
   "metadata": {},
   "outputs": [],
   "source": [
    "import calculator_mod as calc\n",
    "calc.add(1, 2)"
   ]
  },
  {
   "cell_type": "markdown",
   "metadata": {},
   "source": [
    "4. On peut importer l'ensemble du module."
   ]
  },
  {
   "cell_type": "code",
   "execution_count": null,
   "metadata": {},
   "outputs": [],
   "source": [
    "from calculator_mod import *\n",
    "add(1, 2)"
   ]
  },
  {
   "cell_type": "markdown",
   "metadata": {},
   "source": [
    ":::{attention}\n",
    "On évitera par la suite ce type d'import qui est jugé dangereux.\n",
    ":::"
   ]
  },
  {
   "cell_type": "markdown",
   "metadata": {},
   "source": [
    "`import` définit explicitement certains attributs du module\n",
    "\n",
    "- `__dict__` : dictionnaire utilisé par le module pour l'espace de noms des attributs\n",
    "- `__name__` : nom du module\n",
    "- `__file__` : fichier du module\n",
    "- `__doc__` : documentation du module"
   ]
  },
  {
   "cell_type": "code",
   "execution_count": null,
   "metadata": {},
   "outputs": [],
   "source": [
    "print('file', calculator_mod.__file__)\n",
    "print('name', calculator_mod.__name__)\n",
    "print('doc', calculator_mod.__doc__)"
   ]
  },
  {
   "cell_type": "markdown",
   "metadata": {},
   "source": [
    ":::{attention}\n",
    "Lors de l'exécution d'un programme, le module n'est importé qu'une seule fois.  \n",
    ":::"
   ]
  },
  {
   "cell_type": "markdown",
   "metadata": {},
   "source": [
    "#### Exécution d'un module\n",
    "\n",
    "On peut ajouter à la fin d'un module le test suivant:"
   ]
  },
  {
   "cell_type": "code",
   "execution_count": null,
   "metadata": {},
   "outputs": [],
   "source": [
    "if __name__ == '__main__':\n",
    "    print(add(1, 2))"
   ]
  },
  {
   "cell_type": "markdown",
   "metadata": {},
   "source": [
    "On peut à présent exécuter le module."
   ]
  },
  {
   "cell_type": "code",
   "execution_count": null,
   "metadata": {},
   "outputs": [],
   "source": [
    "%%file calculator_mod.py\n",
    "\"\"\"\n",
    "Calculator module\n",
    "\"\"\"\n",
    "\n",
    "def add(a, b):\n",
    "    \"\"\"\n",
    "    return a + b\n",
    "    \"\"\"\n",
    "    return a + b\n",
    "\n",
    "def sub(a, b):\n",
    "    \"\"\"\n",
    "    return a - b\n",
    "    \"\"\"\n",
    "    return a - b\n",
    "\n",
    "if __name__ == '__main__':\n",
    "    print(add(1, 2))"
   ]
  },
  {
   "cell_type": "code",
   "execution_count": null,
   "metadata": {},
   "outputs": [],
   "source": [
    "! python calculator_mod.py"
   ]
  },
  {
   "cell_type": "markdown",
   "metadata": {},
   "source": [
    ":::{tip} Remarque\n",
    "La partie du `if` n'est exécutée que si le module est le programme principal.\n",
    ":::"
   ]
  },
  {
   "cell_type": "markdown",
   "metadata": {},
   "source": [
    "## Un package"
   ]
  },
  {
   "cell_type": "markdown",
   "metadata": {},
   "source": [
    "Comme dit en introduction, un package est un ensemble de modules Python. Prenons l'arborescence suivante"
   ]
  },
  {
   "cell_type": "code",
   "execution_count": null,
   "metadata": {},
   "outputs": [],
   "source": [
    "! tree examples/simple_calculator/"
   ]
  },
  {
   "cell_type": "markdown",
   "metadata": {},
   "source": [
    "On trouve ici un package appelé `calculator` et un sous-package appelé `operator` dans lequel se trouvent deux modules (`add.py` et `sub.py`)."
   ]
  },
  {
   "cell_type": "markdown",
   "metadata": {},
   "source": [
    "### Le fichier `__init__.py` \n",
    ":::{important} Le fichier `__init__.py`\n",
    "\n",
    "- Il est obligatoire pour que Python considère les répertoires comme contenant des packages ou modules.\n",
    "- Il peut être vide.\n",
    "- Il peut contenir du code d'initialisation.\n",
    "- Il peut contenir des `import`.\n",
    "- Il peut contenir la variable `__all__`.\n",
    "\n",
    ":::"
   ]
  },
  {
   "cell_type": "markdown",
   "metadata": {},
   "source": [
    "Prenons l'exemple du fichier `calculator/operator/__init__.py`"
   ]
  },
  {
   "cell_type": "code",
   "execution_count": null,
   "metadata": {},
   "outputs": [],
   "source": [
    "__all__ = ['add', 'sub']"
   ]
  },
  {
   "cell_type": "markdown",
   "metadata": {},
   "source": [
    "De cette manière, on peut importer `add` et `sub` en faisant tout simplement"
   ]
  },
  {
   "cell_type": "code",
   "execution_count": null,
   "metadata": {},
   "outputs": [],
   "source": [
    "import sys\n",
    "sys.path.append(\"./examples/simple_calculator/\")"
   ]
  },
  {
   "cell_type": "code",
   "execution_count": null,
   "metadata": {},
   "outputs": [],
   "source": [
    "from calculator.operator import *"
   ]
  },
  {
   "cell_type": "markdown",
   "metadata": {},
   "source": [
    "On accède ensuite aux attributs et aux fonctions en faisant"
   ]
  },
  {
   "cell_type": "code",
   "execution_count": null,
   "metadata": {},
   "outputs": [],
   "source": [
    "print(add.add(1, 2))\n",
    "print(sub.sub(1, 2))"
   ]
  },
  {
   "cell_type": "markdown",
   "metadata": {},
   "source": [
    "Il est également important d'utiliser l'import relatif lorsque l'on utilise des fonctionnalités de notre application dans les différents modules.   \n",
    "\n",
    "Prenons l'example du fichier `calculator/__init__.py`"
   ]
  },
  {
   "cell_type": "code",
   "execution_count": null,
   "metadata": {},
   "outputs": [],
   "source": [
    "from . import operator\n",
    "from .operator import *\n",
    "from .operator.add import add"
   ]
  },
  {
   "cell_type": "markdown",
   "metadata": {},
   "source": [
    "On a alors le comportement suivant"
   ]
  },
  {
   "cell_type": "code",
   "execution_count": null,
   "metadata": {},
   "outputs": [],
   "source": [
    "import calculator\n",
    "calculator.add(1, 2)"
   ]
  },
  {
   "cell_type": "code",
   "execution_count": null,
   "metadata": {},
   "outputs": [],
   "source": [
    "calculator.sub.sub(2,3)"
   ]
  },
  {
   "cell_type": "markdown",
   "metadata": {},
   "source": [
    ":::{exercise} \n",
    ":label: import\n",
    "Que peut-on faire d'autres ?\n",
    "\n",
    "1. `calculator.add.add(1, 2)` ?\n",
    "2. `calculator.sub.sub(1, 2)` ?\n",
    "2. `calculator.operator.sub(1, 2)` ?\n",
    "2. `calculator.operator.add.add(1, 2)` ?\n",
    ":::\n",
    "\n",
    ":::{solution} import\n",
    ":class: dropdown\n",
    "\n",
    "1. non\n",
    "2. oui\n",
    "3. non\n",
    "4. oui\n",
    ":::"
   ]
  },
  {
   "cell_type": "markdown",
   "metadata": {},
   "source": [
    "## Recherche de modules et de packages"
   ]
  },
  {
   "cell_type": "markdown",
   "metadata": {},
   "source": [
    "Pour que Python importe correctement un module, celui-ci doit être dans son **PATH**. Le module `sys` permet de connaître la liste des répertoires où Python va rechercher les modules."
   ]
  },
  {
   "cell_type": "code",
   "execution_count": null,
   "metadata": {},
   "outputs": [],
   "source": [
    "import sys\n",
    "print(sys.path)"
   ]
  },
  {
   "cell_type": "markdown",
   "metadata": {},
   "source": [
    "Python va donc rechercher dans\n",
    "\n",
    "- le répertoire courant\n",
    "- dans **PYTHONPATH** si défini (c'est la même syntaxe que le **PATH**)\n",
    "- dans un répertoire par défaut\n",
    "\n",
    "On peut également rajouter des répertoires à l'exécution étant donné que `sys.path` n'est qu'une liste."
   ]
  },
  {
   "cell_type": "code",
   "execution_count": null,
   "metadata": {},
   "outputs": [],
   "source": [
    "sys.path.append(\"/home/loic/Formations/\")\n",
    "print(sys.path)"
   ]
  },
  {
   "cell_type": "markdown",
   "metadata": {},
   "source": [
    "Lorsque l'on veut importer **foo**, voici l'ordre des fichiers recherchés dans **sys.path**.\n",
    "\n",
    "- **foo.dll**, **foo.dylib** ou **foo.so**\n",
    "- **foo.py**\n",
    "- **foo.pyc**\n",
    "- **foo/\\_\\_init__.py**\n",
    "\n",
    "\n",
    ":::{important}\n",
    "L'ajout d'une nouvelle entrée dans la liste `sys.path` est montré uniquement pour comprendre le fonctionnement de l'import de package Python. Il ne faut en aucun cas utiliser cette méthode pour votre application. Nous allons voir dans la section suivante comment faire les choses proprement.\n",
    ":::"
   ]
  },
  {
   "attachments": {},
   "cell_type": "markdown",
   "metadata": {},
   "source": [
    "## Réaliser sa première distribution\n",
    "\n",
    ":::{caution} Attention\n",
    "A partir du moment où l'on **diffuse**, il est indispensable de mettre une **licence**.\n",
    ":::\n",
    "\n",
    "Le contenu à diffuser peut être de différents types\n",
    "\n",
    "- des modules et des sous packages\n",
    "- des données\n",
    "- des scripts\n",
    "- des dépendances\n",
    "\n",
    ":::{note}\n",
    "Seul le premier item n'est pas optionnel. Vous pourriez ne pas indiquer les dépendances de votre application mais les conséquences seront que l'utilisateur pourra installer votre application mais il ne pourra pas l'utiliser.\n",
    ":::\n",
    "\n",
    "Il est nécessaire d'ajouter un ensemble de fichiers pour pouvoir faire le packaging.\n",
    "\n",
    "Les indispensables\n",
    "\n",
    "- `pyproject.toml`\n",
    "- `README.rst` ou `README.md`\n",
    "- `LICENSE.txt`\n",
    "- votre `package`\n",
    "\n",
    "Les optionnels\n",
    "\n",
    "- `MANIFEST.in`\n",
    "\n",
    "Voici une arborescence classique d'un package Python\n",
    "\n",
    "    package/\n",
    "        doc/\n",
    "        examples/\n",
    "        package/\n",
    "            ...\n",
    "            tests/\n",
    "        tests/\n",
    "        LICENSE.txt\n",
    "        README.rst\n",
    "        pyproject.toml\n",
    "\n",
    ":::{note}\n",
    "On pouvait également utiliser un fichier `setup.py` et `setup.cfg` pour définir notre package mais c'est à présent obsolète et remplacé par `pyproject.toml`.\n",
    ":::\n",
    "\n",
    "### Premier exemple de `pyproject.toml`\n",
    "\n",
    "Ce fichier est l'élément central de votre application. Il va non seulement décrire la façon de construire le package, de le définir ainsi que ses dépendances à l'installation mais il va également être utilisé pour la configuration de tous les outils qui vont vérifier la qualité de l'application (black, ruff, pytest, ...).\n",
    "\n",
    "```toml\n",
    "[build-system]\n",
    "requires = [\"setuptools\"]\n",
    "build-backend = \"setuptools.build_meta\"\n",
    "\n",
    "[project]\n",
    "name = \"calculator\"\n",
    "dynamic = [\"version\"]\n",
    "requires-python = \">=3.8\"\n",
    "\n",
    "[tool.setuptools]\n",
    "packages = [\"calculator\"]\n",
    "\n",
    "[tool.setuptools.dynamic]\n",
    "version = { attr = \"calculator.version.__version__\" }\n",
    "```\n",
    "\n",
    "- `build-system` indique les outils pour construire le package ainsi que le backend utilisé. Nous utiliserons tout au long de cet atelier `setuptools` mais il en existe bien d'autres[^buildsystem] (Hatch, PDM, Flit, Whey, ...).\n",
    "  \n",
    "[^buildsystem]: https://learn.scientific-python.org/development/guides/packaging-simple/\n",
    "\n",
    "- `project` définit les caractéristiques de votre package (son nom, sa version, ses dépendances, sa description, ses auteurs, ...).\n",
    "\n",
    "Pour installer votre package, il suffit de faire\n",
    "\n",
    "1. `pip install .` pour installer le package dans le répertoire `site-packages` où se trouve votre version de Python.\n",
    "\n",
    "2. `pip install . --user` pour l'installer dans votre `$HOME`.\n",
    "\n",
    "3. `pip install -e .` pour installer votre application en mode développement. Chaque fois que vous faites une modification, le package est automatiquement mis à jour (ce n'est en fait qu'un lien symbolique vers votre package).\n",
    "\n",
    ":::{note}\n",
    "Si vous souhaitez désinstaller votre package, c'est toujours la même commande\n",
    "\n",
    "```bash\n",
    "pip uninstall nom_package\n",
    "```\n",
    ":::"
   ]
  },
  {
   "attachments": {},
   "cell_type": "markdown",
   "metadata": {},
   "source": [
    "### Gérer les dépendances\n",
    "\n",
    "Les dépendances sont gérées à travers le fichier `pyproject.toml`. `pixi`est en mesure de mettre à jour ce fichier lorsque vous utilisez la ligne de commande.\n",
    "\n",
    "Supposons par exemple que votre package a une dépendance à NumPy pour que celui-ci fonctionne. Il vous suffit de faire\n",
    "\n",
    "```shell\n",
    "pixi add numpy\n",
    "```\n",
    "\n",
    "et vous verrez dans le fichier `pyproject.toml`\n",
    "\n",
    "```toml\n",
    "[tool.pixi.dependencies]\n",
    "numpy = \">=2.0.0,<2.1\"\n",
    "```\n",
    "\n",
    "Vous pouvez également l'ajouter à la main de la manière suivante\n",
    "\n",
    "```toml\n",
    "[project]\n",
    "...\n",
    "dependencies = [\n",
    "  \"numpy\",\n",
    "]\n",
    "```\n",
    "\n",
    "De la même manière que ce qu'on a vu pour la définition des environnements de développement, il est possible de spécifier les versions que l'on souhaite.\n",
    "\n",
    "```toml\n",
    "[project]\n",
    "...\n",
    "dependencies = [\n",
    "  \"numpy>=1.0,<1.13\",\n",
    "]\n",
    "```\n",
    "\n",
    "Il est également possible d'ajouter des dépendances optionnelles comme par exemple\n",
    "\n",
    "```toml\n",
    "[project.optional-dependencies]\n",
    "test = [\"pytest\"]\n",
    "doc = [\"sphinx\", \"nbsphinx\"]\n",
    "```\n",
    "\n",
    "On peut ensuite sélectionner ces options lors de l'installation\n",
    "\n",
    "```bash\n",
    "pip install .[test]\n",
    "pip install .[test,doc]\n",
    "```\n",
    "\n",
    "Mais on préférera passer par `pixi` en faisant l'équivalent\n",
    "\n",
    "```bash\n",
    "pixi add -f test pytest\n",
    "pixi add -f doc sphinx nbsphinx\n",
    "```\n",
    "\n",
    "ce qui ajoutera les sections suivantes dans le fichier `pyproject.toml`\n",
    "\n",
    "```toml\n",
    "[tool.pixi.feature.test.dependencies]\n",
    "pytest = \">=7.2.0,<7.3\"\n",
    "\n",
    "[tool.pixi.feature.doc.dependencies]\n",
    "sphinx = \">=7.3.7,<7.4\"\n",
    "nbsphinx = \">=0.9.4,<0.10\"\n",
    "```\n",
    "\n",
    "Il est ensuite possible de créer des environnements spécifiques à partir des features à l'aide de la commmande\n",
    "\n",
    "```bash\n",
    "pixi project environment add test -f test\n",
    "pixi project environment add doc -f doc\n",
    "```\n",
    "\n",
    "Ce qui aura comme conséquence d'ajouter les lignes suivantes dans le fichier `pyproject.toml`\n",
    "\n",
    "```toml\n",
    "[tool.pixi.environments]\n",
    "test = [\"test\"]\n",
    "doc = [\"doc\"]\n",
    "```\n",
    "\n",
    "Pour utiliser l'environnement, il suffit de le spécifier via l'option `-e` comme par exemple\n",
    "\n",
    "```bash\n",
    "pixi run -e test pytest\n",
    "```\n",
    "\n",
    "Nous reverrons les environnements dans les prochains chapitres lorsque nous parlerons de la documentation et des tests."
   ]
  },
  {
   "attachments": {},
   "cell_type": "markdown",
   "metadata": {},
   "source": [
    "### Ajout de scripts\n",
    "\n",
    "En plus des sous packages et modules Python, votre application peut avoir des scripts que l'on peut vouloir exécuter en ligne de commande. Ce sont là encore des fichier Python. Ils sont spécifiés dans le fichier `pyproject.toml`.\n",
    "\n",
    "```toml\n",
    "[project.scripts]\n",
    "calculator-script = \"calculator.command_line:main\"\n",
    "```\n",
    "\n",
    "où `calculator-script` est le nom de l'exécutable.\n",
    "\n",
    "### Ajouter une extension\n",
    "\n",
    "Un package ne contient pas forcément uniquement des fichiers Python. On peut par exemple avoir des extensions écrites en `cython`. Ce n'est pas si simple de les prendre en compte avec le fichier `pyproject.toml`. Si vous souhaitez faire quelque chose de propre, il faut regarder du coté de NumPy ou de pandas. Ils utilise tous les deux le backend `meson` pour construire leurs extensions Cython.\n",
    "\n",
    "Afin de ne pas complexifier l'atelier, nous utiliserons l'ancienne méthode qui se conjugue avec le fichier `pyproject.toml`. Pour ce faire, nous allons créer le fichier `setup.py` avec le contenu suivant"
   ]
  },
  {
   "cell_type": "code",
   "execution_count": null,
   "metadata": {},
   "outputs": [],
   "source": [
    "from setuptools import setup, find_packages\n",
    "from setuptools.extension import Extension\n",
    "from Cython.Build import cythonize\n",
    "\n",
    "extension = [Extension(name = \"calculator.cython_mod\",\n",
    "                       sources = [\"calculator/cython_mod.pyx\"])\n",
    "            ]\n",
    "\n",
    "setup(\n",
    "    ...\n",
    "    ext_modules=cythonize(extension),\n",
    "    ...\n",
    ")"
   ]
  },
  {
   "attachments": {},
   "cell_type": "markdown",
   "metadata": {},
   "source": [
    "Il faut également ajouter `cython` dans les dépendances du `build-system`.\n",
    "\n",
    "```toml\n",
    "[build-system]\n",
    "requires = [\"setuptools\", \"cython\"]\n",
    "build-backend = \"setuptools.build_meta\"\n",
    "```\n",
    "\n",
    ":::{note} Remarque\n",
    "\n",
    "Vous êtes maintenant en mesure d'installer localement votre application. Vous souhaitez maintenant la diffuser plus largement. Il vous faut renseigner un peu plus d'informations avant de pouvoir le faire: les `classifiers`.\n",
    "\n",
    "```toml\n",
    "[project]\n",
    "...\n",
    "classifiers = [\n",
    "    \"Development Status :: 3 - Alpha\",\n",
    "    \"Intended Audience :: Science/Research\",\n",
    "    \"Intended Audience :: Developers\",\n",
    "    \"License :: OSI Approved :: BSD License\",\n",
    "    \"Programming Language :: Cython\",\n",
    "    'Programming Language :: Python :: 3',\n",
    "    'Programming Language :: Python :: 3.8',\n",
    "    'Programming Language :: Python :: 3.9',\n",
    "    'Programming Language :: Python :: 3.10',\n",
    "    'Programming Language :: Python :: 3.11',\n",
    "    'Programming Language :: Python :: 3.12',\n",
    "    'Programming Language :: Python :: 3 :: Only',\n",
    "    \"Topic :: Software Development\",\n",
    "    \"Topic :: Scientific/Engineering\",\n",
    "    \"Operating System :: Microsoft :: Windows\",\n",
    "    \"Operating System :: POSIX\",\n",
    "    \"Operating System :: Unix\",\n",
    "    \"Operating System :: MacOS\"\n",
    "]\n",
    "```\n",
    "\n",
    ":::"
   ]
  },
  {
   "cell_type": "markdown",
   "metadata": {},
   "source": [
    "## Exercices\n",
    "\n",
    "### Etape 1\n",
    "\n",
    "Dans le répertoire `step0`, vous avez l'arborescence suivante"
   ]
  },
  {
   "cell_type": "code",
   "execution_count": null,
   "metadata": {},
   "outputs": [],
   "source": [
    "! tree TPs/1.packaging/step0/"
   ]
  },
  {
   "cell_type": "markdown",
   "metadata": {},
   "source": [
    "\n",
    ":::{exercise}\n",
    "Remplissez le fichier `pyproject.toml` pour pouvoir installer de manière minimale l'application `splinart`. Vous ajouterez au dur et à mesure les dépendances nécessaires à l'aide de la commande `pixi`.\n",
    ":::\n",
    "\n",
    ":::{exercise}\n",
    "Remplissez les fichiers `__init__.py` pour que les démos fonctionnent.\n",
    ":::"
   ]
  },
  {
   "cell_type": "markdown",
   "metadata": {},
   "source": [
    "### Etape 2\n",
    "\n",
    ":::{exercise}\n",
    "Ajoutez le fichier script dans le fichier `pyptoject.toml` et testez.\n",
    ":::"
   ]
  },
  {
   "cell_type": "markdown",
   "metadata": {},
   "source": [
    "### Etape 3\n",
    "\n",
    ":::{exercise}\n",
    "Ajoutez les informations nécessaires pour diffuser l'application\n",
    "\n",
    "- l'auteur,\n",
    "- la description,\n",
    "- la licence,\n",
    "- la version,\n",
    "- les classifiers,\n",
    ":::"
   ]
  }
 ],
 "metadata": {
  "kernelspec": {
   "display_name": "Python 3 (ipykernel)",
   "language": "python",
   "name": "python3"
  },
  "language_info": {
   "codemirror_mode": {
    "name": "ipython",
    "version": 3
   },
   "file_extension": ".py",
   "mimetype": "text/x-python",
   "name": "python",
   "nbconvert_exporter": "python",
   "pygments_lexer": "ipython3",
   "version": "3.11.3"
  }
 },
 "nbformat": 4,
 "nbformat_minor": 4
}
